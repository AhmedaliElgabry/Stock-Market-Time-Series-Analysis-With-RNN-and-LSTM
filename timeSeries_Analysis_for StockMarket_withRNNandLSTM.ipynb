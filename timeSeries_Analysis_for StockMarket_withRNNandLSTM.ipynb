{
  "nbformat": 4,
  "nbformat_minor": 0,
  "metadata": {
    "colab": {
      "name": "Lab8_time_series.ipynb",
      "provenance": [],
      "collapsed_sections": []
    },
    "kernelspec": {
      "name": "python3",
      "display_name": "Python 3"
    },
    "accelerator": "GPU"
  },
  "cells": [
    {
      "cell_type": "markdown",
      "metadata": {
        "id": "QUNJhBezXgWl",
        "colab_type": "text"
      },
      "source": [
        "<h4 align=\"right\">30th of March 2020</h4>\n",
        "<h1 align=\"center\">Neural Networks and Deep Learning (CIE 555)</h1>\n",
        "<h2 align=\"center\">Lab 8: Recurrent Neural Networks</h2>\n",
        "<h3 align=\"center\">Part 2: Time Series Analysis</h3><br>"
      ]
    },
    {
      "cell_type": "markdown",
      "metadata": {
        "id": "bFxlUjcy3Yrz",
        "colab_type": "text"
      },
      "source": [
        "#Time Series Analysis with LSTM"
      ]
    },
    {
      "cell_type": "code",
      "metadata": {
        "id": "8BYse-gU1z3j",
        "colab_type": "code",
        "colab": {}
      },
      "source": [
        "import matplotlib.pyplot as plt\n",
        "import matplotlib as mplt\n",
        "\n",
        "import pandas as pd  \n",
        "import numpy as np  \n",
        "#import tensorflow as tf\n",
        "from tensorflow.keras.models import Sequential  \n",
        "from tensorflow.keras.layers import Dense  \n",
        "from tensorflow.keras.layers import LSTM \n",
        "from tensorflow.keras.layers import Dropout\n",
        "\n",
        "from google.colab import files"
      ],
      "execution_count": null,
      "outputs": []
    },
    {
      "cell_type": "markdown",
      "metadata": {
        "id": "P9AiA4uGOwf1",
        "colab_type": "text"
      },
      "source": [
        "###Loading Dataset and Visualization"
      ]
    },
    {
      "cell_type": "code",
      "metadata": {
        "id": "NnphM9ox37Nt",
        "colab_type": "code",
        "colab": {
          "resources": {
            "http://localhost:8080/nbextensions/google.colab/files.js": {
              "data": "Ly8gQ29weXJpZ2h0IDIwMTcgR29vZ2xlIExMQwovLwovLyBMaWNlbnNlZCB1bmRlciB0aGUgQXBhY2hlIExpY2Vuc2UsIFZlcnNpb24gMi4wICh0aGUgIkxpY2Vuc2UiKTsKLy8geW91IG1heSBub3QgdXNlIHRoaXMgZmlsZSBleGNlcHQgaW4gY29tcGxpYW5jZSB3aXRoIHRoZSBMaWNlbnNlLgovLyBZb3UgbWF5IG9idGFpbiBhIGNvcHkgb2YgdGhlIExpY2Vuc2UgYXQKLy8KLy8gICAgICBodHRwOi8vd3d3LmFwYWNoZS5vcmcvbGljZW5zZXMvTElDRU5TRS0yLjAKLy8KLy8gVW5sZXNzIHJlcXVpcmVkIGJ5IGFwcGxpY2FibGUgbGF3IG9yIGFncmVlZCB0byBpbiB3cml0aW5nLCBzb2Z0d2FyZQovLyBkaXN0cmlidXRlZCB1bmRlciB0aGUgTGljZW5zZSBpcyBkaXN0cmlidXRlZCBvbiBhbiAiQVMgSVMiIEJBU0lTLAovLyBXSVRIT1VUIFdBUlJBTlRJRVMgT1IgQ09ORElUSU9OUyBPRiBBTlkgS0lORCwgZWl0aGVyIGV4cHJlc3Mgb3IgaW1wbGllZC4KLy8gU2VlIHRoZSBMaWNlbnNlIGZvciB0aGUgc3BlY2lmaWMgbGFuZ3VhZ2UgZ292ZXJuaW5nIHBlcm1pc3Npb25zIGFuZAovLyBsaW1pdGF0aW9ucyB1bmRlciB0aGUgTGljZW5zZS4KCi8qKgogKiBAZmlsZW92ZXJ2aWV3IEhlbHBlcnMgZm9yIGdvb2dsZS5jb2xhYiBQeXRob24gbW9kdWxlLgogKi8KKGZ1bmN0aW9uKHNjb3BlKSB7CmZ1bmN0aW9uIHNwYW4odGV4dCwgc3R5bGVBdHRyaWJ1dGVzID0ge30pIHsKICBjb25zdCBlbGVtZW50ID0gZG9jdW1lbnQuY3JlYXRlRWxlbWVudCgnc3BhbicpOwogIGVsZW1lbnQudGV4dENvbnRlbnQgPSB0ZXh0OwogIGZvciAoY29uc3Qga2V5IG9mIE9iamVjdC5rZXlzKHN0eWxlQXR0cmlidXRlcykpIHsKICAgIGVsZW1lbnQuc3R5bGVba2V5XSA9IHN0eWxlQXR0cmlidXRlc1trZXldOwogIH0KICByZXR1cm4gZWxlbWVudDsKfQoKLy8gTWF4IG51bWJlciBvZiBieXRlcyB3aGljaCB3aWxsIGJlIHVwbG9hZGVkIGF0IGEgdGltZS4KY29uc3QgTUFYX1BBWUxPQURfU0laRSA9IDEwMCAqIDEwMjQ7Ci8vIE1heCBhbW91bnQgb2YgdGltZSB0byBibG9jayB3YWl0aW5nIGZvciB0aGUgdXNlci4KY29uc3QgRklMRV9DSEFOR0VfVElNRU9VVF9NUyA9IDMwICogMTAwMDsKCmZ1bmN0aW9uIF91cGxvYWRGaWxlcyhpbnB1dElkLCBvdXRwdXRJZCkgewogIGNvbnN0IHN0ZXBzID0gdXBsb2FkRmlsZXNTdGVwKGlucHV0SWQsIG91dHB1dElkKTsKICBjb25zdCBvdXRwdXRFbGVtZW50ID0gZG9jdW1lbnQuZ2V0RWxlbWVudEJ5SWQob3V0cHV0SWQpOwogIC8vIENhY2hlIHN0ZXBzIG9uIHRoZSBvdXRwdXRFbGVtZW50IHRvIG1ha2UgaXQgYXZhaWxhYmxlIGZvciB0aGUgbmV4dCBjYWxsCiAgLy8gdG8gdXBsb2FkRmlsZXNDb250aW51ZSBmcm9tIFB5dGhvbi4KICBvdXRwdXRFbGVtZW50LnN0ZXBzID0gc3RlcHM7CgogIHJldHVybiBfdXBsb2FkRmlsZXNDb250aW51ZShvdXRwdXRJZCk7Cn0KCi8vIFRoaXMgaXMgcm91Z2hseSBhbiBhc3luYyBnZW5lcmF0b3IgKG5vdCBzdXBwb3J0ZWQgaW4gdGhlIGJyb3dzZXIgeWV0KSwKLy8gd2hlcmUgdGhlcmUgYXJlIG11bHRpcGxlIGFzeW5jaHJvbm91cyBzdGVwcyBhbmQgdGhlIFB5dGhvbiBzaWRlIGlzIGdvaW5nCi8vIHRvIHBvbGwgZm9yIGNvbXBsZXRpb24gb2YgZWFjaCBzdGVwLgovLyBUaGlzIHVzZXMgYSBQcm9taXNlIHRvIGJsb2NrIHRoZSBweXRob24gc2lkZSBvbiBjb21wbGV0aW9uIG9mIGVhY2ggc3RlcCwKLy8gdGhlbiBwYXNzZXMgdGhlIHJlc3VsdCBvZiB0aGUgcHJldmlvdXMgc3RlcCBhcyB0aGUgaW5wdXQgdG8gdGhlIG5leHQgc3RlcC4KZnVuY3Rpb24gX3VwbG9hZEZpbGVzQ29udGludWUob3V0cHV0SWQpIHsKICBjb25zdCBvdXRwdXRFbGVtZW50ID0gZG9jdW1lbnQuZ2V0RWxlbWVudEJ5SWQob3V0cHV0SWQpOwogIGNvbnN0IHN0ZXBzID0gb3V0cHV0RWxlbWVudC5zdGVwczsKCiAgY29uc3QgbmV4dCA9IHN0ZXBzLm5leHQob3V0cHV0RWxlbWVudC5sYXN0UHJvbWlzZVZhbHVlKTsKICByZXR1cm4gUHJvbWlzZS5yZXNvbHZlKG5leHQudmFsdWUucHJvbWlzZSkudGhlbigodmFsdWUpID0+IHsKICAgIC8vIENhY2hlIHRoZSBsYXN0IHByb21pc2UgdmFsdWUgdG8gbWFrZSBpdCBhdmFpbGFibGUgdG8gdGhlIG5leHQKICAgIC8vIHN0ZXAgb2YgdGhlIGdlbmVyYXRvci4KICAgIG91dHB1dEVsZW1lbnQubGFzdFByb21pc2VWYWx1ZSA9IHZhbHVlOwogICAgcmV0dXJuIG5leHQudmFsdWUucmVzcG9uc2U7CiAgfSk7Cn0KCi8qKgogKiBHZW5lcmF0b3IgZnVuY3Rpb24gd2hpY2ggaXMgY2FsbGVkIGJldHdlZW4gZWFjaCBhc3luYyBzdGVwIG9mIHRoZSB1cGxvYWQKICogcHJvY2Vzcy4KICogQHBhcmFtIHtzdHJpbmd9IGlucHV0SWQgRWxlbWVudCBJRCBvZiB0aGUgaW5wdXQgZmlsZSBwaWNrZXIgZWxlbWVudC4KICogQHBhcmFtIHtzdHJpbmd9IG91dHB1dElkIEVsZW1lbnQgSUQgb2YgdGhlIG91dHB1dCBkaXNwbGF5LgogKiBAcmV0dXJuIHshSXRlcmFibGU8IU9iamVjdD59IEl0ZXJhYmxlIG9mIG5leHQgc3RlcHMuCiAqLwpmdW5jdGlvbiogdXBsb2FkRmlsZXNTdGVwKGlucHV0SWQsIG91dHB1dElkKSB7CiAgY29uc3QgaW5wdXRFbGVtZW50ID0gZG9jdW1lbnQuZ2V0RWxlbWVudEJ5SWQoaW5wdXRJZCk7CiAgaW5wdXRFbGVtZW50LmRpc2FibGVkID0gZmFsc2U7CgogIGNvbnN0IG91dHB1dEVsZW1lbnQgPSBkb2N1bWVudC5nZXRFbGVtZW50QnlJZChvdXRwdXRJZCk7CiAgb3V0cHV0RWxlbWVudC5pbm5lckhUTUwgPSAnJzsKCiAgY29uc3QgcGlja2VkUHJvbWlzZSA9IG5ldyBQcm9taXNlKChyZXNvbHZlKSA9PiB7CiAgICBpbnB1dEVsZW1lbnQuYWRkRXZlbnRMaXN0ZW5lcignY2hhbmdlJywgKGUpID0+IHsKICAgICAgcmVzb2x2ZShlLnRhcmdldC5maWxlcyk7CiAgICB9KTsKICB9KTsKCiAgY29uc3QgY2FuY2VsID0gZG9jdW1lbnQuY3JlYXRlRWxlbWVudCgnYnV0dG9uJyk7CiAgaW5wdXRFbGVtZW50LnBhcmVudEVsZW1lbnQuYXBwZW5kQ2hpbGQoY2FuY2VsKTsKICBjYW5jZWwudGV4dENvbnRlbnQgPSAnQ2FuY2VsIHVwbG9hZCc7CiAgY29uc3QgY2FuY2VsUHJvbWlzZSA9IG5ldyBQcm9taXNlKChyZXNvbHZlKSA9PiB7CiAgICBjYW5jZWwub25jbGljayA9ICgpID0+IHsKICAgICAgcmVzb2x2ZShudWxsKTsKICAgIH07CiAgfSk7CgogIC8vIENhbmNlbCB1cGxvYWQgaWYgdXNlciBoYXNuJ3QgcGlja2VkIGFueXRoaW5nIGluIHRpbWVvdXQuCiAgY29uc3QgdGltZW91dFByb21pc2UgPSBuZXcgUHJvbWlzZSgocmVzb2x2ZSkgPT4gewogICAgc2V0VGltZW91dCgoKSA9PiB7CiAgICAgIHJlc29sdmUobnVsbCk7CiAgICB9LCBGSUxFX0NIQU5HRV9USU1FT1VUX01TKTsKICB9KTsKCiAgLy8gV2FpdCBmb3IgdGhlIHVzZXIgdG8gcGljayB0aGUgZmlsZXMuCiAgY29uc3QgZmlsZXMgPSB5aWVsZCB7CiAgICBwcm9taXNlOiBQcm9taXNlLnJhY2UoW3BpY2tlZFByb21pc2UsIHRpbWVvdXRQcm9taXNlLCBjYW5jZWxQcm9taXNlXSksCiAgICByZXNwb25zZTogewogICAgICBhY3Rpb246ICdzdGFydGluZycsCiAgICB9CiAgfTsKCiAgaWYgKCFmaWxlcykgewogICAgcmV0dXJuIHsKICAgICAgcmVzcG9uc2U6IHsKICAgICAgICBhY3Rpb246ICdjb21wbGV0ZScsCiAgICAgIH0KICAgIH07CiAgfQoKICBjYW5jZWwucmVtb3ZlKCk7CgogIC8vIERpc2FibGUgdGhlIGlucHV0IGVsZW1lbnQgc2luY2UgZnVydGhlciBwaWNrcyBhcmUgbm90IGFsbG93ZWQuCiAgaW5wdXRFbGVtZW50LmRpc2FibGVkID0gdHJ1ZTsKCiAgZm9yIChjb25zdCBmaWxlIG9mIGZpbGVzKSB7CiAgICBjb25zdCBsaSA9IGRvY3VtZW50LmNyZWF0ZUVsZW1lbnQoJ2xpJyk7CiAgICBsaS5hcHBlbmQoc3BhbihmaWxlLm5hbWUsIHtmb250V2VpZ2h0OiAnYm9sZCd9KSk7CiAgICBsaS5hcHBlbmQoc3BhbigKICAgICAgICBgKCR7ZmlsZS50eXBlIHx8ICduL2EnfSkgLSAke2ZpbGUuc2l6ZX0gYnl0ZXMsIGAgKwogICAgICAgIGBsYXN0IG1vZGlmaWVkOiAkewogICAgICAgICAgICBmaWxlLmxhc3RNb2RpZmllZERhdGUgPyBmaWxlLmxhc3RNb2RpZmllZERhdGUudG9Mb2NhbGVEYXRlU3RyaW5nKCkgOgogICAgICAgICAgICAgICAgICAgICAgICAgICAgICAgICAgICAnbi9hJ30gLSBgKSk7CiAgICBjb25zdCBwZXJjZW50ID0gc3BhbignMCUgZG9uZScpOwogICAgbGkuYXBwZW5kQ2hpbGQocGVyY2VudCk7CgogICAgb3V0cHV0RWxlbWVudC5hcHBlbmRDaGlsZChsaSk7CgogICAgY29uc3QgZmlsZURhdGFQcm9taXNlID0gbmV3IFByb21pc2UoKHJlc29sdmUpID0+IHsKICAgICAgY29uc3QgcmVhZGVyID0gbmV3IEZpbGVSZWFkZXIoKTsKICAgICAgcmVhZGVyLm9ubG9hZCA9IChlKSA9PiB7CiAgICAgICAgcmVzb2x2ZShlLnRhcmdldC5yZXN1bHQpOwogICAgICB9OwogICAgICByZWFkZXIucmVhZEFzQXJyYXlCdWZmZXIoZmlsZSk7CiAgICB9KTsKICAgIC8vIFdhaXQgZm9yIHRoZSBkYXRhIHRvIGJlIHJlYWR5LgogICAgbGV0IGZpbGVEYXRhID0geWllbGQgewogICAgICBwcm9taXNlOiBmaWxlRGF0YVByb21pc2UsCiAgICAgIHJlc3BvbnNlOiB7CiAgICAgICAgYWN0aW9uOiAnY29udGludWUnLAogICAgICB9CiAgICB9OwoKICAgIC8vIFVzZSBhIGNodW5rZWQgc2VuZGluZyB0byBhdm9pZCBtZXNzYWdlIHNpemUgbGltaXRzLiBTZWUgYi82MjExNTY2MC4KICAgIGxldCBwb3NpdGlvbiA9IDA7CiAgICB3aGlsZSAocG9zaXRpb24gPCBmaWxlRGF0YS5ieXRlTGVuZ3RoKSB7CiAgICAgIGNvbnN0IGxlbmd0aCA9IE1hdGgubWluKGZpbGVEYXRhLmJ5dGVMZW5ndGggLSBwb3NpdGlvbiwgTUFYX1BBWUxPQURfU0laRSk7CiAgICAgIGNvbnN0IGNodW5rID0gbmV3IFVpbnQ4QXJyYXkoZmlsZURhdGEsIHBvc2l0aW9uLCBsZW5ndGgpOwogICAgICBwb3NpdGlvbiArPSBsZW5ndGg7CgogICAgICBjb25zdCBiYXNlNjQgPSBidG9hKFN0cmluZy5mcm9tQ2hhckNvZGUuYXBwbHkobnVsbCwgY2h1bmspKTsKICAgICAgeWllbGQgewogICAgICAgIHJlc3BvbnNlOiB7CiAgICAgICAgICBhY3Rpb246ICdhcHBlbmQnLAogICAgICAgICAgZmlsZTogZmlsZS5uYW1lLAogICAgICAgICAgZGF0YTogYmFzZTY0LAogICAgICAgIH0sCiAgICAgIH07CiAgICAgIHBlcmNlbnQudGV4dENvbnRlbnQgPQogICAgICAgICAgYCR7TWF0aC5yb3VuZCgocG9zaXRpb24gLyBmaWxlRGF0YS5ieXRlTGVuZ3RoKSAqIDEwMCl9JSBkb25lYDsKICAgIH0KICB9CgogIC8vIEFsbCBkb25lLgogIHlpZWxkIHsKICAgIHJlc3BvbnNlOiB7CiAgICAgIGFjdGlvbjogJ2NvbXBsZXRlJywKICAgIH0KICB9Owp9CgpzY29wZS5nb29nbGUgPSBzY29wZS5nb29nbGUgfHwge307CnNjb3BlLmdvb2dsZS5jb2xhYiA9IHNjb3BlLmdvb2dsZS5jb2xhYiB8fCB7fTsKc2NvcGUuZ29vZ2xlLmNvbGFiLl9maWxlcyA9IHsKICBfdXBsb2FkRmlsZXMsCiAgX3VwbG9hZEZpbGVzQ29udGludWUsCn07Cn0pKHNlbGYpOwo=",
              "ok": true,
              "headers": [
                [
                  "content-type",
                  "application/javascript"
                ]
              ],
              "status": 200,
              "status_text": "OK"
            }
          },
          "base_uri": "https://localhost:8080/",
          "height": 75
        },
        "outputId": "f8b9507a-4341-47a3-9acd-d28b2098563c"
      },
      "source": [
        "#Upload file from local drive\n",
        "files.upload()\n",
        "\n",
        "#Training data in the period from 01/01/2013 to 31/12/2017\n",
        "data_train = pd.read_csv(r'AAPL_train.csv')"
      ],
      "execution_count": null,
      "outputs": [
        {
          "output_type": "display_data",
          "data": {
            "text/html": [
              "\n",
              "     <input type=\"file\" id=\"files-a07c15ab-21d8-4274-a4a4-2b8ab7c953f3\" name=\"files[]\" multiple disabled />\n",
              "     <output id=\"result-a07c15ab-21d8-4274-a4a4-2b8ab7c953f3\">\n",
              "      Upload widget is only available when the cell has been executed in the\n",
              "      current browser session. Please rerun this cell to enable.\n",
              "      </output>\n",
              "      <script src=\"/nbextensions/google.colab/files.js\"></script> "
            ],
            "text/plain": [
              "<IPython.core.display.HTML object>"
            ]
          },
          "metadata": {
            "tags": []
          }
        },
        {
          "output_type": "stream",
          "text": [
            "Saving AAPL_train.csv to AAPL_train (2).csv\n"
          ],
          "name": "stdout"
        }
      ]
    },
    {
      "cell_type": "markdown",
      "metadata": {
        "id": "hlRTvxvjcnN7",
        "colab_type": "text"
      },
      "source": [
        "## Dataset\n",
        "The AAPL dataset is a day-by-day values of a stock market in the period from 01/01/2013 to 31/12/2017"
      ]
    },
    {
      "cell_type": "code",
      "metadata": {
        "id": "kRo-flAB4RN3",
        "colab_type": "code",
        "colab": {
          "base_uri": "https://localhost:8080/",
          "height": 141
        },
        "outputId": "5313e2e7-8866-4e05-c841-a1bb44fade52"
      },
      "source": [
        "#Visualize data imported from the csv file\n",
        "data_train.head(3)"
      ],
      "execution_count": null,
      "outputs": [
        {
          "output_type": "execute_result",
          "data": {
            "text/html": [
              "<div>\n",
              "<style scoped>\n",
              "    .dataframe tbody tr th:only-of-type {\n",
              "        vertical-align: middle;\n",
              "    }\n",
              "\n",
              "    .dataframe tbody tr th {\n",
              "        vertical-align: top;\n",
              "    }\n",
              "\n",
              "    .dataframe thead th {\n",
              "        text-align: right;\n",
              "    }\n",
              "</style>\n",
              "<table border=\"1\" class=\"dataframe\">\n",
              "  <thead>\n",
              "    <tr style=\"text-align: right;\">\n",
              "      <th></th>\n",
              "      <th>Date</th>\n",
              "      <th>Open</th>\n",
              "      <th>High</th>\n",
              "      <th>Low</th>\n",
              "      <th>Close</th>\n",
              "      <th>Adj Close</th>\n",
              "      <th>Volume</th>\n",
              "    </tr>\n",
              "  </thead>\n",
              "  <tbody>\n",
              "    <tr>\n",
              "      <th>0</th>\n",
              "      <td>2012-12-31</td>\n",
              "      <td>72.932854</td>\n",
              "      <td>76.485718</td>\n",
              "      <td>72.714287</td>\n",
              "      <td>76.024284</td>\n",
              "      <td>53.974899</td>\n",
              "      <td>164873100</td>\n",
              "    </tr>\n",
              "    <tr>\n",
              "      <th>1</th>\n",
              "      <td>2013-01-02</td>\n",
              "      <td>79.117142</td>\n",
              "      <td>79.285713</td>\n",
              "      <td>77.375717</td>\n",
              "      <td>78.432854</td>\n",
              "      <td>55.684914</td>\n",
              "      <td>140129500</td>\n",
              "    </tr>\n",
              "    <tr>\n",
              "      <th>2</th>\n",
              "      <td>2013-01-03</td>\n",
              "      <td>78.268570</td>\n",
              "      <td>78.524284</td>\n",
              "      <td>77.285713</td>\n",
              "      <td>77.442856</td>\n",
              "      <td>54.982059</td>\n",
              "      <td>88241300</td>\n",
              "    </tr>\n",
              "  </tbody>\n",
              "</table>\n",
              "</div>"
            ],
            "text/plain": [
              "         Date       Open       High        Low      Close  Adj Close     Volume\n",
              "0  2012-12-31  72.932854  76.485718  72.714287  76.024284  53.974899  164873100\n",
              "1  2013-01-02  79.117142  79.285713  77.375717  78.432854  55.684914  140129500\n",
              "2  2013-01-03  78.268570  78.524284  77.285713  77.442856  54.982059   88241300"
            ]
          },
          "metadata": {
            "tags": []
          },
          "execution_count": 22
        }
      ]
    },
    {
      "cell_type": "code",
      "metadata": {
        "id": "QxUzHiDz4dhe",
        "colab_type": "code",
        "colab": {
          "base_uri": "https://localhost:8080/",
          "height": 299
        },
        "outputId": "6c5ee062-02dd-4210-bc8d-5430befcc59b"
      },
      "source": [
        "#Plot data training data\n",
        "plt.plot(data_train['Open'])\n",
        "plt.xlabel('Day number #')\n",
        "plt.ylabel('Apple opening stock price')"
      ],
      "execution_count": null,
      "outputs": [
        {
          "output_type": "execute_result",
          "data": {
            "text/plain": [
              "Text(0, 0.5, 'Apple opening stock price')"
            ]
          },
          "metadata": {
            "tags": []
          },
          "execution_count": 23
        },
        {
          "output_type": "display_data",
          "data": {
            "image/png": "[encoded data removed]",
            "text/plain": [
              "<Figure size 432x288 with 1 Axes>"
            ]
          },
          "metadata": {
            "tags": []
          }
        }
      ]
    },
    {
      "cell_type": "markdown",
      "metadata": {
        "id": "owE5tSlkO5pP",
        "colab_type": "text"
      },
      "source": [
        "###Preprocessing"
      ]
    },
    {
      "cell_type": "code",
      "metadata": {
        "id": "jf_HHkmQEvE6",
        "colab_type": "code",
        "colab": {}
      },
      "source": [
        "#Normalize features\n",
        "from sklearn.preprocessing import MinMaxScaler \n",
        "\n",
        "data_train_open = np.asarray(data_train['Open'].values).reshape(-1,1) #ِAdd second dimension of 1 to be able to use MinMaxScaler\n",
        "\n",
        "scaler = MinMaxScaler(feature_range = (0, 1))\n",
        "data_train_open_scaled = scaler.fit_transform(data_train_open)"
      ],
      "execution_count": null,
      "outputs": []
    },
    {
      "cell_type": "markdown",
      "metadata": {
        "id": "3qzf4L7wdqdU",
        "colab_type": "text"
      },
      "source": [
        "We want to predict the open market value at each day in the dataset based on the open values of the previous 60 days. So, each training data point is a list of prediction_period values and its corresponding target value is the value of the day following the prediction period. "
      ]
    },
    {
      "cell_type": "code",
      "metadata": {
        "id": "W5HwsQiHH1IT",
        "colab_type": "code",
        "colab": {
          "base_uri": "https://localhost:8080/",
          "height": 35
        },
        "outputId": "c5c5d70f-0f22-4080-bd4f-f10ad03b74fa"
      },
      "source": [
        "#Preparing training data features and labels\n",
        "pred_period = 60; # prediction of the next value based on the last pred_period days\n",
        "xtrain = []  \n",
        "ytrain = []  \n",
        "for i in range(pred_period, len(data_train_open_scaled)):  \n",
        "    xtrain.append(data_train_open_scaled[i-pred_period:i, 0])   \n",
        "    ytrain.append(data_train_open_scaled[i, 0])\n",
        "\n",
        "#Converting xtrain and ytrain to numpy arrays    \n",
        "xtrain, ytrain = np.array(xtrain), np.array(ytrain)\n",
        "xtrain.shape"
      ],
      "execution_count": null,
      "outputs": [
        {
          "output_type": "execute_result",
          "data": {
            "text/plain": [
              "(1200, 60)"
            ]
          },
          "metadata": {
            "tags": []
          },
          "execution_count": 25
        }
      ]
    },
    {
      "cell_type": "code",
      "metadata": {
        "id": "bNa3c6dOfNsH",
        "colab_type": "code",
        "colab": {
          "base_uri": "https://localhost:8080/",
          "height": 35
        },
        "outputId": "f1a5dabe-bd5b-47f1-f161-1fbb5b37d958"
      },
      "source": [
        "\n",
        "#Reshaping xtrain to be accepted by LSTM module\n",
        "xtrain = xtrain.reshape(-1,pred_period,1)\n",
        "xtrain.shape"
      ],
      "execution_count": null,
      "outputs": [
        {
          "output_type": "execute_result",
          "data": {
            "text/plain": [
              "(1200, 60, 1)"
            ]
          },
          "metadata": {
            "tags": []
          },
          "execution_count": 26
        }
      ]
    },
    {
      "cell_type": "markdown",
      "metadata": {
        "id": "w4a-5VeiO-1n",
        "colab_type": "text"
      },
      "source": [
        "###Building Model"
      ]
    },
    {
      "cell_type": "markdown",
      "metadata": {
        "id": "-zdqhfrlfw09",
        "colab_type": "text"
      },
      "source": [
        "* return_sequences: Boolean. Whether to return the last output in the output sequence, or the full sequence. default = False. \n",
        "We set it to true in the LSTM layers followed by other LSTM layers, since we want to pass sequence of data between the layers. However, in the last LSTM layer that is followed by a Dense layer, we set it to false as we want only to pass the final values of the LSTM units. The Dense layer doesn't accept sequences of data. "
      ]
    },
    {
      "cell_type": "code",
      "metadata": {
        "id": "rWHGXMXdMSCN",
        "colab_type": "code",
        "colab": {
          "base_uri": "https://localhost:8080/",
          "height": 1000
        },
        "outputId": "98084e2b-99b5-4540-d06b-72dc00cb7bfd"
      },
      "source": [
        "#Building the model\n",
        "model = Sequential()\n",
        "model.add(LSTM(units=50, return_sequences=True, input_shape=(pred_period, 1)))\n",
        "#model.add(Dropout(0.2))  \n",
        "model.add(LSTM(units=50, return_sequences=True))\n",
        "#model.add(Dropout(0.2))  \n",
        "model.add(LSTM(units=50, return_sequences=True))\n",
        "#model.add(Dropout(0.2))  \n",
        "model.add(LSTM(units=50))\n",
        "#model.add(Dropout(0.2))  \n",
        "model.add(Dense(units = 1))  \n",
        "\n",
        "model.compile(optimizer = 'adam', loss = 'mean_squared_error')  \n",
        "\n",
        "model.fit(xtrain, ytrain, epochs = 100, batch_size = 64)  "
      ],
      "execution_count": null,
      "outputs": [
        {
          "output_type": "stream",
          "text": [
            "Epoch 1/100\n",
            "19/19 [==============================] - 0s 15ms/step - loss: 0.0521\n",
            "Epoch 2/100\n",
            "19/19 [==============================] - 0s 15ms/step - loss: 0.0074\n",
            "Epoch 3/100\n",
            "19/19 [==============================] - 0s 15ms/step - loss: 0.0029\n",
            "Epoch 4/100\n",
            "19/19 [==============================] - 0s 14ms/step - loss: 0.0022\n",
            "Epoch 5/100\n",
            "19/19 [==============================] - 0s 14ms/step - loss: 0.0022\n",
            "Epoch 6/100\n",
            "19/19 [==============================] - 0s 15ms/step - loss: 0.0019\n",
            "Epoch 7/100\n",
            "19/19 [==============================] - 0s 14ms/step - loss: 0.0019\n",
            "Epoch 8/100\n",
            "19/19 [==============================] - 0s 14ms/step - loss: 0.0019\n",
            "Epoch 9/100\n",
            "19/19 [==============================] - 0s 14ms/step - loss: 0.0018\n",
            "Epoch 10/100\n",
            "19/19 [==============================] - 0s 14ms/step - loss: 0.0017\n",
            "Epoch 11/100\n",
            "19/19 [==============================] - 0s 15ms/step - loss: 0.0016\n",
            "Epoch 12/100\n",
            "19/19 [==============================] - 0s 16ms/step - loss: 0.0016\n",
            "Epoch 13/100\n",
            "19/19 [==============================] - 0s 15ms/step - loss: 0.0015\n",
            "Epoch 14/100\n",
            "19/19 [==============================] - 0s 14ms/step - loss: 0.0016\n",
            "Epoch 15/100\n",
            "19/19 [==============================] - 0s 15ms/step - loss: 0.0019\n",
            "Epoch 16/100\n",
            "19/19 [==============================] - 0s 14ms/step - loss: 0.0014\n",
            "Epoch 17/100\n",
            "19/19 [==============================] - 0s 14ms/step - loss: 0.0013\n",
            "Epoch 18/100\n",
            "19/19 [==============================] - 0s 14ms/step - loss: 0.0013\n",
            "Epoch 19/100\n",
            "19/19 [==============================] - 0s 14ms/step - loss: 0.0014\n",
            "Epoch 20/100\n",
            "19/19 [==============================] - 0s 14ms/step - loss: 0.0012\n",
            "Epoch 21/100\n",
            "19/19 [==============================] - 0s 14ms/step - loss: 0.0011\n",
            "Epoch 22/100\n",
            "19/19 [==============================] - 0s 14ms/step - loss: 0.0011\n",
            "Epoch 23/100\n",
            "19/19 [==============================] - 0s 14ms/step - loss: 0.0011\n",
            "Epoch 24/100\n",
            "19/19 [==============================] - 0s 14ms/step - loss: 0.0010\n",
            "Epoch 25/100\n",
            "19/19 [==============================] - 0s 14ms/step - loss: 0.0011\n",
            "Epoch 26/100\n",
            "19/19 [==============================] - 0s 14ms/step - loss: 9.8539e-04\n",
            "Epoch 27/100\n",
            "19/19 [==============================] - 0s 14ms/step - loss: 0.0010\n",
            "Epoch 28/100\n",
            "19/19 [==============================] - 0s 15ms/step - loss: 0.0010\n",
            "Epoch 29/100\n",
            "19/19 [==============================] - 0s 14ms/step - loss: 9.7350e-04\n",
            "Epoch 30/100\n",
            "19/19 [==============================] - 0s 15ms/step - loss: 9.9176e-04\n",
            "Epoch 31/100\n",
            "19/19 [==============================] - 0s 14ms/step - loss: 9.1084e-04\n",
            "Epoch 32/100\n",
            "19/19 [==============================] - 0s 14ms/step - loss: 9.0424e-04\n",
            "Epoch 33/100\n",
            "19/19 [==============================] - 0s 14ms/step - loss: 9.9590e-04\n",
            "Epoch 34/100\n",
            "19/19 [==============================] - 0s 14ms/step - loss: 8.9762e-04\n",
            "Epoch 35/100\n",
            "19/19 [==============================] - 0s 14ms/step - loss: 9.1417e-04\n",
            "Epoch 36/100\n",
            "19/19 [==============================] - 0s 14ms/step - loss: 0.0013\n",
            "Epoch 37/100\n",
            "19/19 [==============================] - 0s 14ms/step - loss: 0.0011\n",
            "Epoch 38/100\n",
            "19/19 [==============================] - 0s 14ms/step - loss: 9.7312e-04\n",
            "Epoch 39/100\n",
            "19/19 [==============================] - 0s 14ms/step - loss: 8.2138e-04\n",
            "Epoch 40/100\n",
            "19/19 [==============================] - 0s 14ms/step - loss: 8.0463e-04\n",
            "Epoch 41/100\n",
            "19/19 [==============================] - 0s 15ms/step - loss: 0.0010\n",
            "Epoch 42/100\n",
            "19/19 [==============================] - 0s 14ms/step - loss: 9.3558e-04\n",
            "Epoch 43/100\n",
            "19/19 [==============================] - 0s 14ms/step - loss: 7.9763e-04\n",
            "Epoch 44/100\n",
            "19/19 [==============================] - 0s 14ms/step - loss: 9.6034e-04\n",
            "Epoch 45/100\n",
            "19/19 [==============================] - 0s 15ms/step - loss: 8.1385e-04\n",
            "Epoch 46/100\n",
            "19/19 [==============================] - 0s 15ms/step - loss: 8.0317e-04\n",
            "Epoch 47/100\n",
            "19/19 [==============================] - 0s 15ms/step - loss: 8.6194e-04\n",
            "Epoch 48/100\n",
            "19/19 [==============================] - 0s 15ms/step - loss: 8.1307e-04\n",
            "Epoch 49/100\n",
            "19/19 [==============================] - 0s 14ms/step - loss: 7.5098e-04\n",
            "Epoch 50/100\n",
            "19/19 [==============================] - 0s 14ms/step - loss: 7.3267e-04\n",
            "Epoch 51/100\n",
            "19/19 [==============================] - 0s 14ms/step - loss: 7.1755e-04\n",
            "Epoch 52/100\n",
            "19/19 [==============================] - 0s 14ms/step - loss: 8.0196e-04\n",
            "Epoch 53/100\n",
            "19/19 [==============================] - 0s 14ms/step - loss: 6.5373e-04\n",
            "Epoch 54/100\n",
            "19/19 [==============================] - 0s 14ms/step - loss: 7.4581e-04\n",
            "Epoch 55/100\n",
            "19/19 [==============================] - 0s 14ms/step - loss: 6.5460e-04\n",
            "Epoch 56/100\n",
            "19/19 [==============================] - 0s 14ms/step - loss: 7.2364e-04\n",
            "Epoch 57/100\n",
            "19/19 [==============================] - 0s 14ms/step - loss: 6.3078e-04\n",
            "Epoch 58/100\n",
            "19/19 [==============================] - 0s 14ms/step - loss: 7.3188e-04\n",
            "Epoch 59/100\n",
            "19/19 [==============================] - 0s 14ms/step - loss: 6.5484e-04\n",
            "Epoch 60/100\n",
            "19/19 [==============================] - 0s 14ms/step - loss: 6.1345e-04\n",
            "Epoch 61/100\n",
            "19/19 [==============================] - 0s 14ms/step - loss: 5.9045e-04\n",
            "Epoch 62/100\n",
            "19/19 [==============================] - 0s 14ms/step - loss: 6.2288e-04\n",
            "Epoch 63/100\n",
            "19/19 [==============================] - 0s 14ms/step - loss: 5.9927e-04\n",
            "Epoch 64/100\n",
            "19/19 [==============================] - 0s 14ms/step - loss: 6.8429e-04\n",
            "Epoch 65/100\n",
            "19/19 [==============================] - 0s 14ms/step - loss: 5.5332e-04\n",
            "Epoch 66/100\n",
            "19/19 [==============================] - 0s 14ms/step - loss: 5.5632e-04\n",
            "Epoch 67/100\n",
            "19/19 [==============================] - 0s 14ms/step - loss: 5.7504e-04\n",
            "Epoch 68/100\n",
            "19/19 [==============================] - 0s 14ms/step - loss: 7.4827e-04\n",
            "Epoch 69/100\n",
            "19/19 [==============================] - 0s 15ms/step - loss: 6.3022e-04\n",
            "Epoch 70/100\n",
            "19/19 [==============================] - 0s 15ms/step - loss: 5.7859e-04\n",
            "Epoch 71/100\n",
            "19/19 [==============================] - 0s 15ms/step - loss: 6.1492e-04\n",
            "Epoch 72/100\n",
            "19/19 [==============================] - 0s 14ms/step - loss: 5.3819e-04\n",
            "Epoch 73/100\n",
            "19/19 [==============================] - 0s 14ms/step - loss: 4.7924e-04\n",
            "Epoch 74/100\n",
            "19/19 [==============================] - 0s 14ms/step - loss: 4.8484e-04\n",
            "Epoch 75/100\n",
            "19/19 [==============================] - 0s 14ms/step - loss: 5.2725e-04\n",
            "Epoch 76/100\n",
            "19/19 [==============================] - 0s 14ms/step - loss: 4.7921e-04\n",
            "Epoch 77/100\n",
            "19/19 [==============================] - 0s 14ms/step - loss: 4.5878e-04\n",
            "Epoch 78/100\n",
            "19/19 [==============================] - 0s 15ms/step - loss: 5.3471e-04\n",
            "Epoch 79/100\n",
            "19/19 [==============================] - 0s 14ms/step - loss: 4.8606e-04\n",
            "Epoch 80/100\n",
            "19/19 [==============================] - 0s 14ms/step - loss: 4.8097e-04\n",
            "Epoch 81/100\n",
            "19/19 [==============================] - 0s 15ms/step - loss: 4.3308e-04\n",
            "Epoch 82/100\n",
            "19/19 [==============================] - 0s 14ms/step - loss: 4.5927e-04\n",
            "Epoch 83/100\n",
            "19/19 [==============================] - 0s 14ms/step - loss: 4.5970e-04\n",
            "Epoch 84/100\n",
            "19/19 [==============================] - 0s 14ms/step - loss: 4.9856e-04\n",
            "Epoch 85/100\n",
            "19/19 [==============================] - 0s 14ms/step - loss: 5.1093e-04\n",
            "Epoch 86/100\n",
            "19/19 [==============================] - 0s 14ms/step - loss: 4.2774e-04\n",
            "Epoch 87/100\n",
            "19/19 [==============================] - 0s 14ms/step - loss: 4.0876e-04\n",
            "Epoch 88/100\n",
            "19/19 [==============================] - 0s 14ms/step - loss: 4.1809e-04\n",
            "Epoch 89/100\n",
            "19/19 [==============================] - 0s 14ms/step - loss: 5.0198e-04\n",
            "Epoch 90/100\n",
            "19/19 [==============================] - 0s 14ms/step - loss: 4.1703e-04\n",
            "Epoch 91/100\n",
            "19/19 [==============================] - 0s 14ms/step - loss: 3.8977e-04\n",
            "Epoch 92/100\n",
            "19/19 [==============================] - 0s 14ms/step - loss: 3.9540e-04\n",
            "Epoch 93/100\n",
            "19/19 [==============================] - 0s 14ms/step - loss: 3.9910e-04\n",
            "Epoch 94/100\n",
            "19/19 [==============================] - 0s 14ms/step - loss: 3.9740e-04\n",
            "Epoch 95/100\n",
            "19/19 [==============================] - 0s 14ms/step - loss: 3.7523e-04\n",
            "Epoch 96/100\n",
            "19/19 [==============================] - 0s 15ms/step - loss: 4.4151e-04\n",
            "Epoch 97/100\n",
            "19/19 [==============================] - 0s 14ms/step - loss: 4.2061e-04\n",
            "Epoch 98/100\n",
            "19/19 [==============================] - 0s 14ms/step - loss: 3.6638e-04\n",
            "Epoch 99/100\n",
            "19/19 [==============================] - 0s 14ms/step - loss: 3.7696e-04\n",
            "Epoch 100/100\n",
            "19/19 [==============================] - 0s 14ms/step - loss: 4.0372e-04\n"
          ],
          "name": "stdout"
        },
        {
          "output_type": "execute_result",
          "data": {
            "text/plain": [
              "<tensorflow.python.keras.callbacks.History at 0x7fb3bda23240>"
            ]
          },
          "metadata": {
            "tags": []
          },
          "execution_count": 35
        }
      ]
    },
    {
      "cell_type": "markdown",
      "metadata": {
        "id": "HCt0G9AXPDnb",
        "colab_type": "text"
      },
      "source": [
        "###Predicting and Visualizing Model's Output of Training Set"
      ]
    },
    {
      "cell_type": "code",
      "metadata": {
        "id": "uYhLTED-Ogrv",
        "colab_type": "code",
        "colab": {
          "base_uri": "https://localhost:8080/",
          "height": 297
        },
        "outputId": "51beb432-baa6-4e7f-ed59-25bed1eaef33"
      },
      "source": [
        "ypred = model.predict(xtrain)\n",
        "\n",
        "plt.plot(ypred, color='blue', label='Predicted from the model')\n",
        "plt.plot(ytrain, color='red', label='Ground truth')\n",
        "plt.xlabel('Day number #')\n",
        "plt.ylabel('Apple opening stock price')\n",
        "plt.legend()"
      ],
      "execution_count": null,
      "outputs": [
        {
          "output_type": "execute_result",
          "data": {
            "text/plain": [
              "<matplotlib.legend.Legend at 0x7fb3bba40e48>"
            ]
          },
          "metadata": {
            "tags": []
          },
          "execution_count": 36
        },
        {
          "output_type": "display_data",
          "data": {
            "image/png": "[encoded data removed]",
            "text/plain": [
              "<Figure size 432x288 with 1 Axes>"
            ]
          },
          "metadata": {
            "tags": []
          }
        }
      ]
    }
  ]
}
